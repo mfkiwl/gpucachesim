{
 "cells": [
  {
   "cell_type": "code",
   "execution_count": 2,
   "id": "e68b5a84-d725-42f1-b0e1-023ddbbeb214",
   "metadata": {},
   "outputs": [],
   "source": [
    "import numpy as np"
   ]
  },
  {
   "cell_type": "code",
   "execution_count": null,
   "id": "4d6ddd54-6505-4029-a86c-48a80913a6b6",
   "metadata": {},
   "outputs": [],
   "source": [
    "void mult(T const *A, T const *B, T *C, size_t m, size_t n, size_t p) {\n",
    "    for (mi = 0; mi < m; mi++) {\n",
    "        for (pi = 0; pi < p; pi++) {\n",
    "            T sum = 0.0;\n",
    "            for (ni = 0; ni < n; ni++) {\n",
    "                sum += A[mi * m + ni] * B[ni * p + pi];\n",
    "            }\n",
    "            C[mi * m + pi] = sum;\n",
    "        }\n",
    "    }\n",
    "}"
   ]
  },
  {
   "cell_type": "code",
   "execution_count": 15,
   "id": "9b2523a6-e3f6-479e-82d9-01749b3c6c7b",
   "metadata": {},
   "outputs": [],
   "source": [
    "def mult(a, b):\n",
    "    (m, n1) = a.shape\n",
    "    (n2, p) = b.shape\n",
    "    out = np.zeros(shape=(m, p))\n",
    "    assert n1 == n2\n",
    "    n = n1\n",
    "    for mi in range(m):\n",
    "       for pi in range(p):\n",
    "            sum = 0\n",
    "            for ni in range(n):\n",
    "                # sum += a[mi][ni] * b[ni][pi]\n",
    "                sum += a[mi][ni] * b[ni][pi]\n",
    "                # sum += a[mi * m + ni] * b[ni * p + pi];\n",
    "            out[mi][pi] = sum\n",
    "    return out"
   ]
  },
  {
   "cell_type": "code",
   "execution_count": 22,
   "id": "f812e479-a905-40e4-abc5-239295ae2027",
   "metadata": {},
   "outputs": [
    {
     "name": "stdout",
     "output_type": "stream",
     "text": [
      "[[33.99031487 28.97449308 33.88552709 ... 36.09223446 32.54796597\n",
      "  31.2670868 ]\n",
      " [31.41924249 28.98941472 33.03584288 ... 33.5751436  33.12694466\n",
      "  30.9527348 ]\n",
      " [33.69865213 31.03914692 38.14894626 ... 34.70820055 33.02113193\n",
      "  32.13340977]\n",
      " ...\n",
      " [34.31637333 29.98564053 34.38120641 ... 33.99666761 34.22177302\n",
      "  30.24395824]\n",
      " [34.82711606 30.50190772 35.22615348 ... 35.95123936 35.09751282\n",
      "  33.69267901]\n",
      " [30.34570393 29.59084785 32.4015356  ... 34.11151214 30.99350448\n",
      "  32.1272328 ]]\n",
      "[[33.99031487 28.97449308 33.88552709 ... 36.09223446 32.54796597\n",
      "  31.2670868 ]\n",
      " [31.41924249 28.98941472 33.03584288 ... 33.5751436  33.12694466\n",
      "  30.9527348 ]\n",
      " [33.69865213 31.03914692 38.14894626 ... 34.70820055 33.02113193\n",
      "  32.13340977]\n",
      " ...\n",
      " [34.31637333 29.98564053 34.38120641 ... 33.99666761 34.22177302\n",
      "  30.24395824]\n",
      " [34.82711606 30.50190772 35.22615348 ... 35.95123936 35.09751282\n",
      "  33.69267901]\n",
      " [30.34570393 29.59084785 32.4015356  ... 34.11151214 30.99350448\n",
      "  32.1272328 ]]\n",
      "[[-7.10542736e-15  0.00000000e+00  0.00000000e+00 ...  0.00000000e+00\n",
      "   7.10542736e-15 -3.55271368e-15]\n",
      " [ 0.00000000e+00 -3.55271368e-15 -7.10542736e-15 ...  7.10542736e-15\n",
      "   0.00000000e+00  0.00000000e+00]\n",
      " [ 0.00000000e+00  0.00000000e+00  0.00000000e+00 ... -7.10542736e-15\n",
      "   0.00000000e+00  0.00000000e+00]\n",
      " ...\n",
      " [ 7.10542736e-15  3.55271368e-15  7.10542736e-15 ...  0.00000000e+00\n",
      "   0.00000000e+00  0.00000000e+00]\n",
      " [ 0.00000000e+00  0.00000000e+00  0.00000000e+00 ...  0.00000000e+00\n",
      "   0.00000000e+00  0.00000000e+00]\n",
      " [ 0.00000000e+00 -7.10542736e-15 -7.10542736e-15 ...  0.00000000e+00\n",
      "   0.00000000e+00 -7.10542736e-15]]\n"
     ]
    },
    {
     "ename": "AssertionError",
     "evalue": "",
     "output_type": "error",
     "traceback": [
      "\u001b[0;31m---------------------------------------------------------------------------\u001b[0m",
      "\u001b[0;31mAssertionError\u001b[0m                            Traceback (most recent call last)",
      "Cell \u001b[0;32mIn[22], line 13\u001b[0m\n\u001b[1;32m     11\u001b[0m \u001b[38;5;28mprint\u001b[39m(want \u001b[38;5;241m-\u001b[39m have)\n\u001b[1;32m     12\u001b[0m \u001b[38;5;28;01massert\u001b[39;00m np\u001b[38;5;241m.\u001b[39mallclose(have, want)\n\u001b[0;32m---> 13\u001b[0m \u001b[38;5;28;01massert\u001b[39;00m (have \u001b[38;5;241m==\u001b[39m want)\u001b[38;5;241m.\u001b[39mall()\n",
      "\u001b[0;31mAssertionError\u001b[0m: "
     ]
    }
   ],
   "source": [
    "m = 32\n",
    "n = 128\n",
    "p = 128\n",
    "a = np.random.rand(m,n)\n",
    "b = np.random.rand(n,p)\n",
    "want = a @ b\n",
    "assert want.shape == (m, p)\n",
    "print(want)\n",
    "have = mult(a, b)\n",
    "print(have)\n",
    "print(want - have)\n",
    "assert np.allclose(have, want)\n",
    "assert (have == want).all()"
   ]
  },
  {
   "cell_type": "code",
   "execution_count": 1,
   "id": "43a55500-91bf-4ef8-b5bc-9e074d9bc2bc",
   "metadata": {},
   "outputs": [
    {
     "data": {
      "text/plain": [
       "1"
      ]
     },
     "execution_count": 1,
     "metadata": {},
     "output_type": "execute_result"
    }
   ],
   "source": [
    "(34887082112 >> 7) & (64 - 1)"
   ]
  },
  {
   "cell_type": "code",
   "execution_count": null,
   "id": "e72a65f7-6895-477a-8818-e0d7f4156180",
   "metadata": {},
   "outputs": [],
   "source": []
  }
 ],
 "metadata": {
  "kernelspec": {
   "display_name": "Python 3 (ipykernel)",
   "language": "python",
   "name": "python3"
  },
  "language_info": {
   "codemirror_mode": {
    "name": "ipython",
    "version": 3
   },
   "file_extension": ".py",
   "mimetype": "text/x-python",
   "name": "python",
   "nbconvert_exporter": "python",
   "pygments_lexer": "ipython3",
   "version": "3.11.4"
  }
 },
 "nbformat": 4,
 "nbformat_minor": 5
}
